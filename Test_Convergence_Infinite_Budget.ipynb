{
 "cells": [
  {
   "cell_type": "code",
   "execution_count": 80,
   "id": "25760934-39de-4cd8-ac0a-e30a424c42c0",
   "metadata": {},
   "outputs": [],
   "source": [
    "import numpy as np\n",
    "import statsmodels.api as sm\n",
    "\n",
    "import sklearn\n",
    "from sklearn.datasets import load_breast_cancer\n",
    "from sklearn.model_selection import train_test_split\n",
    "from sklearn.linear_model import LogisticRegression, SGDClassifier\n",
    "from sklearn.metrics import accuracy_score\n",
    "\n",
    "from load_data import DataLoader\n",
    "from HDP_GLM_Simex import VerticalGLMs"
   ]
  },
  {
   "cell_type": "code",
   "execution_count": 113,
   "id": "25ae39cc-0aaa-46dd-9fc3-9c1bb02ccc23",
   "metadata": {},
   "outputs": [],
   "source": [
    "family = sm.families.Binomial()\n",
    "\n",
    "# both reproduction attempts use a infinite privacy budget i.e. no noise added\n",
    "\n",
    "# this tries to reproduce exactly the estimation process for regularized logistic regression in the paper\n",
    "split_model = VerticalGLMs(\"breast\", family)\n",
    "\n",
    "# this instead tries to use the SGD in sklearn to see if it works better\n",
    "split_model_2 = SGDClassifier(max_iter=1, alpha=0.001, eta0=0.1, learning_rate='constant', \n",
    "                              random_state=42, average=True) \n",
    "\n",
    "def fit_split_model_2():\n",
    "    for x in range(10):\n",
    "        split_model_2.partial_fit(split_model.data.X_train, split_model.data.y_train, classes=[0,1])\n",
    "        split_model_2.coef_[0][:15] /= max(1, np.sqrt(np.sum(split_model_2.coef_[0][:15] **2)))\n",
    "        split_model_2.coef_[0][15:] /= max(1, np.sqrt(np.sum(split_model_2.coef_[0][15:] **2)))\n",
    "    return split_model_2.coef_[0]    \n",
    "\n",
    "# global model\n",
    "model = sm.GLM(split_model.data.y_train, split_model.data.X_train, family = split_model.family)"
   ]
  },
  {
   "cell_type": "code",
   "execution_count": 114,
   "id": "7a216399-e1dc-493a-b967-1fd3f9679042",
   "metadata": {},
   "outputs": [
    {
     "name": "stderr",
     "output_type": "stream",
     "text": [
      "/home/bob/.local/lib/python3.10/site-packages/sklearn/utils/validation.py:1300: DataConversionWarning: A column-vector y was passed when a 1d array was expected. Please change the shape of y to (n_samples, ), for example using ravel().\n",
      "  y = column_or_1d(y, warn=True)\n",
      "/home/bob/.local/lib/python3.10/site-packages/sklearn/utils/validation.py:1300: DataConversionWarning: A column-vector y was passed when a 1d array was expected. Please change the shape of y to (n_samples, ), for example using ravel().\n",
      "  y = column_or_1d(y, warn=True)\n",
      "/home/bob/.local/lib/python3.10/site-packages/sklearn/utils/validation.py:1300: DataConversionWarning: A column-vector y was passed when a 1d array was expected. Please change the shape of y to (n_samples, ), for example using ravel().\n",
      "  y = column_or_1d(y, warn=True)\n",
      "/home/bob/.local/lib/python3.10/site-packages/sklearn/utils/validation.py:1300: DataConversionWarning: A column-vector y was passed when a 1d array was expected. Please change the shape of y to (n_samples, ), for example using ravel().\n",
      "  y = column_or_1d(y, warn=True)\n",
      "/home/bob/.local/lib/python3.10/site-packages/sklearn/utils/validation.py:1300: DataConversionWarning: A column-vector y was passed when a 1d array was expected. Please change the shape of y to (n_samples, ), for example using ravel().\n",
      "  y = column_or_1d(y, warn=True)\n",
      "/home/bob/.local/lib/python3.10/site-packages/sklearn/utils/validation.py:1300: DataConversionWarning: A column-vector y was passed when a 1d array was expected. Please change the shape of y to (n_samples, ), for example using ravel().\n",
      "  y = column_or_1d(y, warn=True)\n",
      "/home/bob/.local/lib/python3.10/site-packages/sklearn/utils/validation.py:1300: DataConversionWarning: A column-vector y was passed when a 1d array was expected. Please change the shape of y to (n_samples, ), for example using ravel().\n",
      "  y = column_or_1d(y, warn=True)\n",
      "/home/bob/.local/lib/python3.10/site-packages/sklearn/utils/validation.py:1300: DataConversionWarning: A column-vector y was passed when a 1d array was expected. Please change the shape of y to (n_samples, ), for example using ravel().\n",
      "  y = column_or_1d(y, warn=True)\n",
      "/home/bob/.local/lib/python3.10/site-packages/sklearn/utils/validation.py:1300: DataConversionWarning: A column-vector y was passed when a 1d array was expected. Please change the shape of y to (n_samples, ), for example using ravel().\n",
      "  y = column_or_1d(y, warn=True)\n",
      "/home/bob/.local/lib/python3.10/site-packages/sklearn/utils/validation.py:1300: DataConversionWarning: A column-vector y was passed when a 1d array was expected. Please change the shape of y to (n_samples, ), for example using ravel().\n",
      "  y = column_or_1d(y, warn=True)\n"
     ]
    }
   ],
   "source": [
    "global_params = model.fit_regularized(alpha=0.001, L1_wt=0.0, maxiter=10).params\n",
    "split_params = split_model.fit(max_epochs = 10)\n",
    "split2_params = fit_split_model_2()"
   ]
  },
  {
   "cell_type": "code",
   "execution_count": 115,
   "id": "8fbd3d11-84dc-4723-9ae4-e4adbc7a45bc",
   "metadata": {},
   "outputs": [],
   "source": [
    "y_pred_global = [0 if x < 0.5 else 1 for x in model.predict(global_params)]\n",
    "y_pred_split = [0 if x < 0.5 else 1 for x in model.predict(split_params)]\n",
    "y_pred_split2 = [0 if x < 0.5 else 1 for x in model.predict(split2_params)]"
   ]
  },
  {
   "cell_type": "code",
   "execution_count": 116,
   "id": "f7077c0b-88a5-48c0-9ae7-1ee1208e5a71",
   "metadata": {},
   "outputs": [
    {
     "name": "stdout",
     "output_type": "stream",
     "text": [
      "0.8506151142355008\n",
      "0.6274165202108963\n",
      "0.9086115992970123\n"
     ]
    }
   ],
   "source": [
    "for y_pred in [y_pred_global, y_pred_split, y_pred_split2]:\n",
    "    print(accuracy_score(sklearn.utils.validation.column_or_1d(split_model.data.y_train), y_pred))"
   ]
  },
  {
   "cell_type": "code",
   "execution_count": 119,
   "id": "329ab9da-3578-41f6-a487-ea2b254b879e",
   "metadata": {},
   "outputs": [],
   "source": [
    "# crucially, the SGD from sklearn works much better so this needs actually further investigation"
   ]
  },
  {
   "cell_type": "code",
   "execution_count": null,
   "id": "91cc7ce6-3185-422c-9a02-4aea0ec028f1",
   "metadata": {},
   "outputs": [],
   "source": []
  }
 ],
 "metadata": {
  "kernelspec": {
   "display_name": "Python 3 (ipykernel)",
   "language": "python",
   "name": "python3"
  },
  "language_info": {
   "codemirror_mode": {
    "name": "ipython",
    "version": 3
   },
   "file_extension": ".py",
   "mimetype": "text/x-python",
   "name": "python",
   "nbconvert_exporter": "python",
   "pygments_lexer": "ipython3",
   "version": "3.10.12"
  }
 },
 "nbformat": 4,
 "nbformat_minor": 5
}
